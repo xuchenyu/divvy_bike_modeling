{
 "cells": [
  {
   "cell_type": "code",
   "execution_count": 13,
   "metadata": {
    "collapsed": false
   },
   "outputs": [],
   "source": [
    "# load all packages\n",
    "%matplotlib inline\n",
    "import numpy as np\n",
    "import pandas as pd\n",
    "import matplotlib\n",
    "from matplotlib import pyplot as plt\n",
    "matplotlib.rcParams['savefig.dpi'] = 1.5 * matplotlib.rcParams['savefig.dpi']\n",
    "import seaborn as sns\n",
    "from datetime import datetime\n",
    "pd.set_option('notebook_repr_html', True)\n",
    "pd.set_option('display.max_rows', 20)\n",
    "from collections import OrderedDict\n",
    "from bokeh.plotting import figure, show, output_notebook, ColumnDataSource\n",
    "from bokeh.models import HoverTool"
   ]
  },
  {
   "cell_type": "code",
   "execution_count": 2,
   "metadata": {
    "collapsed": false
   },
   "outputs": [
    {
     "name": "stdout",
     "output_type": "stream",
     "text": [
      "1110970 300\n"
     ]
    }
   ],
   "source": [
    "# load all data\n",
    "#trips1 = pd.read_csv('~/TDI/divvy/useful_data/Divvy_Trips_2014-Q1Q2.csv')#.astype(str)\n",
    "trips2 = pd.read_csv('~/TDI/divvy/useful_data/Divvy_Trips_2014-Q3-07.csv')#.astype(str)\n",
    "trips3 = pd.read_csv('~/TDI/divvy/useful_data/Divvy_Trips_2014-Q3-0809.csv')#.astype(str)\n",
    "#trips4 = pd.read_csv('~/TDI/divvy/useful_data/Divvy_Trips_2014-Q4.csv')#.astype(str)\n",
    "#trips5 = pd.read_csv('~/TDI/divvy/useful_data/Divvy_Trips_2013.csv').astype(str)\n",
    "trips = pd.concat([trips2, trips3])\n",
    "stations = pd.read_csv('~/TDI/divvy/useful_data/Divvy_Stations_2014-Q3Q4.csv').set_index('id')\n",
    "\n",
    "print len(trips), len(stations)"
   ]
  },
  {
   "cell_type": "code",
   "execution_count": 3,
   "metadata": {
    "collapsed": false
   },
   "outputs": [],
   "source": [
    "def convert_date(old_datetime):\n",
    "    return datetime.strptime(old_datetime, '%m/%d/%Y %H:%M')\n",
    "\n",
    "trips.starttime = trips.starttime.map(convert_date)\n",
    "trips.stoptime = trips.stoptime.map(convert_date)"
   ]
  },
  {
   "cell_type": "code",
   "execution_count": 4,
   "metadata": {
    "collapsed": true
   },
   "outputs": [],
   "source": [
    "def is_weekday(a_datetime):\n",
    "    return True if a_datetime.weekday() in range(4) else False\n",
    "\n",
    "def is_am(a_datetime):\n",
    "    return True if 6 <= a_datetime.hour < 10 else False\n",
    "\n",
    "def is_pm(a_datetime):\n",
    "    return True if 15 <= a_datetime.hour < 19 else False\n",
    "\n",
    "def in_s_ids(s_id, s_ids):\n",
    "    return True if s_id in s_ids else False"
   ]
  },
  {
   "cell_type": "code",
   "execution_count": 5,
   "metadata": {
    "collapsed": false
   },
   "outputs": [
    {
     "name": "stdout",
     "output_type": "stream",
     "text": [
      "21554 23455\n"
     ]
    }
   ],
   "source": [
    "# station ids near Union Station\n",
    "us_ids = [75, 77, 91, 174, 191, 192]\n",
    "\n",
    "# select weekdays, am rush hours, from_stations near Union Station, and subscribers\n",
    "trips_am = trips[trips.starttime.map(is_weekday)\\\n",
    "                 & trips.starttime.map(is_am)\\\n",
    "                 & trips.from_station_id.apply(in_s_ids, s_ids=us_ids)\\\n",
    "                 & (trips.usertype == 'Subscriber')]\n",
    "\n",
    "# select weekdays, pm rush hours, to_stations near Union Station, and subscribers\n",
    "trips_pm = trips[trips.starttime.map(is_weekday)\\\n",
    "                 & trips.starttime.map(is_pm)\\\n",
    "                 & trips.to_station_id.apply(in_s_ids, s_ids=us_ids)\\\n",
    "                 & (trips.usertype == 'Subscriber')]\n",
    "\n",
    "print len(trips_am), len(trips_pm)"
   ]
  },
  {
   "cell_type": "code",
   "execution_count": 17,
   "metadata": {
    "collapsed": false
   },
   "outputs": [
    {
     "name": "stderr",
     "output_type": "stream",
     "text": [
      "/home/chenyu/anaconda/lib/python2.7/site-packages/ipykernel/__main__.py:4: SettingWithCopyWarning: \n",
      "A value is trying to be set on a copy of a slice from a DataFrame.\n",
      "Try using .loc[row_indexer,col_indexer] = value instead\n",
      "\n",
      "See the the caveats in the documentation: http://pandas.pydata.org/pandas-docs/stable/indexing.html#indexing-view-versus-copy\n"
     ]
    },
    {
     "data": {
      "text/plain": [
       "(array([ 0.00057877,  0.        ,  0.00057877,  0.00057877,  0.        ,\n",
       "         0.        ,  0.        ,  0.        ,  0.        ,  0.00115754,\n",
       "         0.00405139,  0.00115754,  0.00694525,  0.0138905 ,  0.00173631]),\n",
       " array([  14. ,   46.6,   79.2,  111.8,  144.4,  177. ,  209.6,  242.2,\n",
       "         274.8,  307.4,  340. ,  372.6,  405.2,  437.8,  470.4,  503. ]),\n",
       " <a list of 15 Patch objects>)"
      ]
     },
     "execution_count": 17,
     "metadata": {},
     "output_type": "execute_result"
    },
    {
     "data": {
      "image/png": "[encoded data removed]",
      "text/plain": [
       "<matplotlib.figure.Figure at 0x7fd146868890>"
      ]
     },
     "metadata": {},
     "output_type": "display_data"
    }
   ],
   "source": [
    "def get_date(a_datetime):\n",
    "    return a_datetime.date()\n",
    "\n",
    "trips_am['date'] = trips_am.starttime.apply(get_date)\n",
    "trips_am_by_date = trips_am.groupby('date').size()\n",
    "\n",
    "plt.xlabel('Daily Number of AM trips from Union Station')\n",
    "plt.ylabel('Probability Density')\n",
    "plt.hist(trips_am_by_date, bins=15, normed=True, alpha=0.8, color='b')\n"
   ]
  },
  {
   "cell_type": "code",
   "execution_count": 18,
   "metadata": {
    "collapsed": false
   },
   "outputs": [
    {
     "data": {
      "text/plain": [
       "(array([ 0.00387797,  0.00349018,  0.00193899,  0.00193899,  0.0003878 ,\n",
       "         0.00077559,  0.00155119,  0.        ,  0.0003878 ,  0.        ,\n",
       "         0.0003878 ,  0.        ,  0.0003878 ,  0.        ,  0.0003878 ]),\n",
       " array([  237.        ,   301.46666667,   365.93333333,   430.4       ,\n",
       "          494.86666667,   559.33333333,   623.8       ,   688.26666667,\n",
       "          752.73333333,   817.2       ,   881.66666667,   946.13333333,\n",
       "         1010.6       ,  1075.06666667,  1139.53333333,  1204.        ]),\n",
       " <a list of 15 Patch objects>)"
      ]
     },
     "execution_count": 18,
     "metadata": {},
     "output_type": "execute_result"
    },
    {
     "data": {
      "image/png": "[encoded data removed]",
      "text/plain": [
       "<matplotlib.figure.Figure at 0x7fd146bf1dd0>"
      ]
     },
     "metadata": {},
     "output_type": "display_data"
    }
   ],
   "source": [
    "a_trip_wd = trips_am[(trips_am.from_station_id==77) & (trips_am.to_station_id==49)]\n",
    "a_trip_we = trips_we[(trips_we.from_station_id==77) & (trips_we.to_station_id==49)]\n",
    "plt.xlabel('Trip Duration (second)')\n",
    "plt.ylabel('Probability Density')\n",
    "plt.hist(a_trip_wd.tripduration.values, bins=15, normed=True, alpha=0.8, color='r')\n",
    "plt.hist(a_trip_we.tripduration.values, bins=15, normed=True, alpha=0.6, color='g')\n",
    "\n",
    "#print a_trip_wd.tripduration.describe()\n",
    "#print a_trip_we.tripduration.describe()"
   ]
  },
  {
   "cell_type": "code",
   "execution_count": null,
   "metadata": {
    "collapsed": true
   },
   "outputs": [],
   "source": []
  },
  {
   "cell_type": "code",
   "execution_count": 10,
   "metadata": {
    "collapsed": false,
    "scrolled": false
   },
   "outputs": [
    {
     "data": {
      "text/plain": [
       "from_station_id  to_station_id\n",
       "77               76               53\n",
       "                 90               46\n",
       "                 77               45\n",
       "                 198              45\n",
       "                 49               40\n",
       "                 35               32\n",
       "                 85               31\n",
       "                 57               29\n",
       "                 140              26\n",
       "                 197              26\n",
       "dtype: int64"
      ]
     },
     "execution_count": 10,
     "metadata": {},
     "output_type": "execute_result"
    }
   ],
   "source": [
    "def is_weekend(a_datetime):\n",
    "    return True if a_datetime.weekday() in [5,6] else False\n",
    "\n",
    "trips_we = trips[trips.starttime.map(is_weekend) & (trips.from_station_id==77)]\n",
    "trips_we.groupby(['from_station_id', 'to_station_id']).size().order(ascending=False).head(10)"
   ]
  },
  {
   "cell_type": "code",
   "execution_count": 11,
   "metadata": {
    "collapsed": false,
    "scrolled": false
   },
   "outputs": [
    {
     "data": {
      "text/plain": [
       "from_station_id  to_station_id\n",
       "77               283              208\n",
       "                 134              141\n",
       "                 49                88\n",
       "                 342               84\n",
       "                 37                84\n",
       "                 36                77\n",
       "                 164               68\n",
       "                 68                66\n",
       "                 33                63\n",
       "                 90                60\n",
       "dtype: int64"
      ]
     },
     "execution_count": 11,
     "metadata": {},
     "output_type": "execute_result"
    }
   ],
   "source": [
    "trips_am[trips_am.from_station_id==77].groupby(['from_station_id', 'to_station_id']).size().order(ascending=False).head(10)"
   ]
  },
  {
   "cell_type": "code",
   "execution_count": 48,
   "metadata": {
    "collapsed": false
   },
   "outputs": [
    {
     "name": "stdout",
     "output_type": "stream",
     "text": [
      "Clinton St & Madison St\n",
      "Dearborn St & Monroe St\n"
     ]
    }
   ],
   "source": [
    "print stations.ix[77]['name']\n",
    "print stations.ix[49]['name']"
   ]
  },
  {
   "cell_type": "code",
   "execution_count": null,
   "metadata": {
    "collapsed": false
   },
   "outputs": [],
   "source": [
    "print stations[stations.name == 'Clinton St & Washington Blvd']['name'] #91\n",
    "print stations[stations.name == 'Michigan Ave & Washington St']['name'] #43"
   ]
  },
  {
   "cell_type": "code",
   "execution_count": null,
   "metadata": {
    "collapsed": true
   },
   "outputs": [],
   "source": []
  },
  {
   "cell_type": "code",
   "execution_count": 25,
   "metadata": {
    "collapsed": false
   },
   "outputs": [],
   "source": [
    "# group trips by to_station for am and pick the 20 most popular arrival stations\n",
    "trips_am_by_to_id = trips_am.groupby('to_station_id').size().order(ascending=False)[:20]\n",
    "trips_am_by_from_id = trips_am[trips_am.to_station_id.apply(in_s_ids, s_ids=trips_am_by_to_id.index)]\\\n",
    "                      .groupby('from_station_id').size().order(ascending=False)\n",
    "\n",
    "# group trips by from_station for pm and pick the 20 most popular departure stations\n",
    "trips_pm_by_from_id = trips_pm.groupby('from_station_id').size().order(ascending=False)[:20]\n",
    "trips_pm_by_to_id = trips_pm[trips_pm.from_station_id.apply(in_s_ids, s_ids=trips_pm_by_from_id.index)]\\\n",
    "                    .groupby('to_station_id').size().order(ascending=False)"
   ]
  },
  {
   "cell_type": "code",
   "execution_count": null,
   "metadata": {
    "collapsed": true
   },
   "outputs": [],
   "source": [
    "# station info for stations near Union Station\n",
    "us_lons = stations.ix[us_ids].longitude\n",
    "us_lats = stations.ix[us_ids].latitude\n",
    "us_names = stations.ix[us_ids].name\n",
    "us_am_counts = trips_am_by_from_id.ix[us_ids]\n",
    "us_pm_counts = trips_pm_by_to_id.ix[us_ids]"
   ]
  },
  {
   "cell_type": "code",
   "execution_count": null,
   "metadata": {
    "collapsed": false
   },
   "outputs": [],
   "source": [
    "# station info for popular am arrival stations\n",
    "am_stations = stations.ix[trips_am_by_to_id.index]\n",
    "am_lons = am_stations.longitude\n",
    "am_lats = am_stations.latitude\n",
    "am_names = am_stations.name\n",
    "am_counts = trips_am_by_to_id"
   ]
  },
  {
   "cell_type": "code",
   "execution_count": null,
   "metadata": {
    "collapsed": true
   },
   "outputs": [],
   "source": [
    "# station info for popular pm departure stations\n",
    "pm_stations = stations.ix[trips_pm_by_from_id.index]\n",
    "pm_lons = pm_stations.longitude\n",
    "pm_lats = pm_stations.latitude\n",
    "pm_names = pm_stations.name\n",
    "pm_counts = trips_pm_by_from_id"
   ]
  },
  {
   "cell_type": "code",
   "execution_count": null,
   "metadata": {
    "collapsed": true
   },
   "outputs": [],
   "source": []
  },
  {
   "cell_type": "code",
   "execution_count": null,
   "metadata": {
    "collapsed": false
   },
   "outputs": [],
   "source": [
    "output_notebook()\n",
    "TOOLS = \"pan, wheel_zoom, box_zoom, reset, hover, save\"\n",
    "\n",
    "source_us = ColumnDataSource(\n",
    "    data = dict(\n",
    "        x = us_lons,\n",
    "        y = us_lats,\n",
    "        radius = np.sqrt(us_am_counts)/25000,\n",
    "        color = ['#FF0000']*len(us_am_counts),\n",
    "        name = us_names,\n",
    "        count = us_am_counts\n",
    "        #capacity = new_cap,\n",
    "        #flow = new_net_flow,\n",
    "    )\n",
    ")\n",
    "\n",
    "source_am = ColumnDataSource(\n",
    "    data = dict(\n",
    "        x = am_lons,\n",
    "        y = am_lats,\n",
    "        radius = np.sqrt(am_counts)/25000,\n",
    "        color = ['#0000FF']*len(am_lons),\n",
    "        name = am_names,\n",
    "        count = am_counts\n",
    "        #capacity = new_cap,\n",
    "        #flow = new_net_flow,\n",
    "    )\n",
    ")\n",
    "\n",
    "p = figure(title=\"Weekday AM Rush Hour\", tools=TOOLS)\n",
    "p.scatter('x', 'y', radius='radius', fill_color='color', fill_alpha=0.5, line_color=None, source=source_us)\n",
    "p.scatter('x', 'y', radius='radius', fill_color='color', fill_alpha=0.5, line_color=None, source=source_am)\n",
    "p.xaxis.axis_label = 'Longitude'\n",
    "p.yaxis.axis_label = 'Latitude'\n",
    "\n",
    "hover = p.select(dict(type=HoverTool))\n",
    "hover.point_policy = \"follow_mouse\"\n",
    "hover.tooltips = OrderedDict([\n",
    "    (\"Station Name\", \"@name\"),\n",
    "    #(\"Capacity\", \"@capacity bikes\"),\n",
    "    (\"Ingoing Trips:\", \"@count\"),\n",
    "])\n",
    "\n",
    "#show(p)"
   ]
  },
  {
   "cell_type": "code",
   "execution_count": null,
   "metadata": {
    "collapsed": false
   },
   "outputs": [],
   "source": [
    "output_notebook()\n",
    "TOOLS = \"pan, wheel_zoom, box_zoom, reset, hover, save\"\n",
    "\n",
    "source_us = ColumnDataSource(\n",
    "    data = dict(\n",
    "        x = us_lons,\n",
    "        y = us_lats,\n",
    "        radius = np.sqrt(us_pm_counts)/25000,\n",
    "        color = ['#0000FF']*len(us_pm_counts),\n",
    "        name = us_names,\n",
    "        count = us_am_counts\n",
    "        #capacity = new_cap,\n",
    "        #flow = new_net_flow,\n",
    "    )\n",
    ")\n",
    "\n",
    "source_pm = ColumnDataSource(\n",
    "    data = dict(\n",
    "        x = pm_lons,\n",
    "        y = pm_lats,\n",
    "        radius = np.sqrt(pm_counts)/25000,\n",
    "        color = ['#FF0000']*len(pm_lons),\n",
    "        name = pm_names,\n",
    "        count = pm_counts\n",
    "        #capacity = new_cap,\n",
    "        #flow = new_net_flow,\n",
    "    )\n",
    ")\n",
    "\n",
    "p = figure(title=\"Weekday PM Rush Hour\", tools=TOOLS)\n",
    "p.scatter('x', 'y', radius='radius', fill_color='color', fill_alpha=0.5, line_color=None, source=source_us)\n",
    "p.scatter('x', 'y', radius='radius', fill_color='color', fill_alpha=0.5, line_color=None, source=source_pm)\n",
    "p.xaxis.axis_label = 'Longitude'\n",
    "p.yaxis.axis_label = 'Latitude'\n",
    "\n",
    "hover = p.select(dict(type=HoverTool))\n",
    "hover.point_policy = \"follow_mouse\"\n",
    "hover.tooltips = OrderedDict([\n",
    "    (\"Station Name\", \"@name\"),\n",
    "    #(\"Capacity\", \"@capacity bikes\"),\n",
    "    (\"Ingoing Trips:\", \"@count\"),\n",
    "])\n",
    "\n",
    "#show(p)"
   ]
  },
  {
   "cell_type": "code",
   "execution_count": null,
   "metadata": {
    "collapsed": false
   },
   "outputs": [],
   "source": [
    "from __future__ import print_function\n",
    "\n",
    "from bokeh.browserlib import view\n",
    "from bokeh.document import Document\n",
    "from bokeh.embed import file_html\n",
    "from bokeh.models.glyphs import Circle\n",
    "from bokeh.models import (\n",
    "    GMapPlot, Range1d, ColumnDataSource, LinearAxis,\n",
    "    PanTool, WheelZoomTool, BoxSelectTool,\n",
    "    BoxSelectionOverlay, GMapOptions,\n",
    "    NumeralTickFormatter, PrintfTickFormatter)\n",
    "from bokeh.resources import INLINE\n",
    "\n",
    "x_range = Range1d()\n",
    "y_range = Range1d()\n",
    "\n",
    "# 41.8827° N, 87.6227° W for Millenium Park\n",
    "# 41.8786° N, 87.6402° W for Union Station\n",
    "# 41.8858° N, 87.6309° W for Clark/Lake\n",
    "\n",
    "# JSON style string taken from: https://snazzymaps.com/style/1/pale-dawn\n",
    "map_options = GMapOptions(lat=41.8858, lng=-87.6309, map_type=\"roadmap\", zoom=14, styles=\"\"\"\n",
    "[{\"featureType\":\"administrative\",\"elementType\":\"all\",\"stylers\":[{\"visibility\":\"on\"},{\"lightness\":33}]},{\"featureType\":\"landscape\",\"elementType\":\"all\",\"stylers\":[{\"color\":\"#f2e5d4\"}]},{\"featureType\":\"poi.park\",\"elementType\":\"geometry\",\"stylers\":[{\"color\":\"#c5dac6\"}]},{\"featureType\":\"poi.park\",\"elementType\":\"labels\",\"stylers\":[{\"visibility\":\"on\"},{\"lightness\":20}]},{\"featureType\":\"road\",\"elementType\":\"all\",\"stylers\":[{\"lightness\":20}]},{\"featureType\":\"road.highway\",\"elementType\":\"geometry\",\"stylers\":[{\"color\":\"#c5c6c6\"}]},{\"featureType\":\"road.arterial\",\"elementType\":\"geometry\",\"stylers\":[{\"color\":\"#e4d7c6\"}]},{\"featureType\":\"road.local\",\"elementType\":\"geometry\",\"stylers\":[{\"color\":\"#fbfaf7\"}]},{\"featureType\":\"water\",\"elementType\":\"all\",\"stylers\":[{\"visibility\":\"on\"},{\"color\":\"#acbcc9\"}]}]\n",
    "\"\"\")\n",
    "\n",
    "plot = GMapPlot(\n",
    "    x_range=x_range, y_range=y_range,\n",
    "    map_options=map_options,\n",
    "    title = \"Weekday AM Rush Hour\"\n",
    ")\n",
    "\n",
    "source_us = ColumnDataSource(\n",
    "    data = dict(\n",
    "        x = us_lons,\n",
    "        y = us_lats,\n",
    "        radius = np.sqrt(us_am_counts),\n",
    "        color = ['#FF0000']*len(us_am_counts),\n",
    "        name = us_names,\n",
    "        count = us_am_counts\n",
    "        #capacity = new_cap,\n",
    "        #flow = new_net_flow,\n",
    "    )\n",
    ")\n",
    "\n",
    "source_am = ColumnDataSource(\n",
    "    data = dict(\n",
    "        x = am_lons,\n",
    "        y = am_lats,\n",
    "        radius = np.sqrt(am_counts),\n",
    "        color = ['#0000FF']*len(am_counts),\n",
    "        name = am_names,\n",
    "        count = am_counts\n",
    "        #capacity = new_cap,\n",
    "        #flow = new_net_flow,\n",
    "    )\n",
    ")\n",
    "\n",
    "circle = Circle(x=\"x\", y=\"y\", size=\"radius\", fill_color=\"color\", line_color=None, fill_alpha=0.5)\n",
    "plot.add_glyph(source_us, circle)\n",
    "plot.add_glyph(source_am, circle)\n",
    "\n",
    "pan = PanTool()\n",
    "wheel_zoom = WheelZoomTool()\n",
    "box_select = BoxSelectTool()\n",
    "\n",
    "plot.add_tools(pan, wheel_zoom, box_select)\n",
    "\n",
    "xaxis = LinearAxis(axis_label=\"Latitude\", major_tick_in=0, formatter=NumeralTickFormatter(format=\"0.000\"))\n",
    "plot.add_layout(xaxis, 'below')\n",
    "\n",
    "yaxis = LinearAxis(axis_label=\"Longitude\", major_tick_in=0, formatter=PrintfTickFormatter(format=\"%.3f\"))\n",
    "plot.add_layout(yaxis, 'left')\n",
    "\n",
    "overlay = BoxSelectionOverlay(tool=box_select)\n",
    "plot.add_layout(overlay)\n",
    "\n",
    "doc = Document()\n",
    "doc.add(plot)\n",
    "\n",
    "if __name__ == \"__main__\":\n",
    "    filename = \"wk_am_us.html\"\n",
    "    with open(filename, \"w\") as f:\n",
    "        f.write(file_html(doc, INLINE, \"Plot Weekday AM\"))\n",
    "    print(\"Wrote %s\" % filename)\n",
    "    view(filename)"
   ]
  },
  {
   "cell_type": "code",
   "execution_count": null,
   "metadata": {
    "collapsed": false
   },
   "outputs": [],
   "source": [
    "from __future__ import print_function\n",
    "\n",
    "from bokeh.browserlib import view\n",
    "from bokeh.document import Document\n",
    "from bokeh.embed import file_html\n",
    "from bokeh.models.glyphs import Circle\n",
    "from bokeh.models import (\n",
    "    GMapPlot, Range1d, ColumnDataSource, LinearAxis,\n",
    "    PanTool, WheelZoomTool, BoxSelectTool,\n",
    "    BoxSelectionOverlay, GMapOptions,\n",
    "    NumeralTickFormatter, PrintfTickFormatter)\n",
    "from bokeh.resources import INLINE\n",
    "\n",
    "x_range = Range1d()\n",
    "y_range = Range1d()\n",
    "\n",
    "# 41.8827° N, 87.6227° W for Millenium Park\n",
    "# 41.8786° N, 87.6402° W for Union Station\n",
    "# 41.8858° N, 87.6309° W for Clark/Lake\n",
    "\n",
    "# JSON style string taken from: https://snazzymaps.com/style/1/pale-dawn\n",
    "map_options = GMapOptions(lat=41.8858, lng=-87.6309, map_type=\"roadmap\", zoom=14, styles=\"\"\"\n",
    "[{\"featureType\":\"administrative\",\"elementType\":\"all\",\"stylers\":[{\"visibility\":\"on\"},{\"lightness\":33}]},{\"featureType\":\"landscape\",\"elementType\":\"all\",\"stylers\":[{\"color\":\"#f2e5d4\"}]},{\"featureType\":\"poi.park\",\"elementType\":\"geometry\",\"stylers\":[{\"color\":\"#c5dac6\"}]},{\"featureType\":\"poi.park\",\"elementType\":\"labels\",\"stylers\":[{\"visibility\":\"on\"},{\"lightness\":20}]},{\"featureType\":\"road\",\"elementType\":\"all\",\"stylers\":[{\"lightness\":20}]},{\"featureType\":\"road.highway\",\"elementType\":\"geometry\",\"stylers\":[{\"color\":\"#c5c6c6\"}]},{\"featureType\":\"road.arterial\",\"elementType\":\"geometry\",\"stylers\":[{\"color\":\"#e4d7c6\"}]},{\"featureType\":\"road.local\",\"elementType\":\"geometry\",\"stylers\":[{\"color\":\"#fbfaf7\"}]},{\"featureType\":\"water\",\"elementType\":\"all\",\"stylers\":[{\"visibility\":\"on\"},{\"color\":\"#acbcc9\"}]}]\n",
    "\"\"\")\n",
    "\n",
    "plot = GMapPlot(\n",
    "    x_range=x_range, y_range=y_range,\n",
    "    map_options=map_options,\n",
    "    title = \"Weekday PM Rush Hour\"\n",
    ")\n",
    "\n",
    "source_us = ColumnDataSource(\n",
    "    data = dict(\n",
    "        x = us_lons,\n",
    "        y = us_lats,\n",
    "        radius = np.sqrt(us_pm_counts),\n",
    "        color = ['#0000FF']*len(us_pm_counts),\n",
    "        name = us_names,\n",
    "        count = us_pm_counts\n",
    "        #capacity = new_cap,\n",
    "        #flow = new_net_flow,\n",
    "    )\n",
    ")\n",
    "\n",
    "source_pm = ColumnDataSource(\n",
    "    data = dict(\n",
    "        x = pm_lons,\n",
    "        y = pm_lats,\n",
    "        radius = np.sqrt(pm_counts),\n",
    "        color = ['#FF0000']*len(pm_counts),\n",
    "        name = pm_names,\n",
    "        count = pm_counts\n",
    "        #capacity = new_cap,\n",
    "        #flow = new_net_flow,\n",
    "    )\n",
    ")\n",
    "\n",
    "circle = Circle(x=\"x\", y=\"y\", size=\"radius\", fill_color=\"color\", line_color=None, fill_alpha=0.5)\n",
    "plot.add_glyph(source_us, circle)\n",
    "plot.add_glyph(source_pm, circle)\n",
    "\n",
    "pan = PanTool()\n",
    "wheel_zoom = WheelZoomTool()\n",
    "box_select = BoxSelectTool()\n",
    "\n",
    "plot.add_tools(pan, wheel_zoom, box_select)\n",
    "\n",
    "xaxis = LinearAxis(axis_label=\"Latitude\", major_tick_in=0, formatter=NumeralTickFormatter(format=\"0.000\"))\n",
    "plot.add_layout(xaxis, 'below')\n",
    "\n",
    "yaxis = LinearAxis(axis_label=\"Longitude\", major_tick_in=0, formatter=PrintfTickFormatter(format=\"%.3f\"))\n",
    "plot.add_layout(yaxis, 'left')\n",
    "\n",
    "overlay = BoxSelectionOverlay(tool=box_select)\n",
    "plot.add_layout(overlay)\n",
    "\n",
    "doc = Document()\n",
    "doc.add(plot)\n",
    "\n",
    "if __name__ == \"__main__\":\n",
    "    filename = \"wd_pm_us.html\"\n",
    "    with open(filename, \"w\") as f:\n",
    "        f.write(file_html(doc, INLINE, \"Plot Weekday PM\"))\n",
    "    print(\"Wrote %s\" % filename)\n",
    "    view(filename)"
   ]
  },
  {
   "cell_type": "code",
   "execution_count": null,
   "metadata": {
    "collapsed": true
   },
   "outputs": [],
   "source": []
  }
 ],
 "metadata": {
  "kernelspec": {
   "display_name": "Python 2",
   "language": "python",
   "name": "python2"
  },
  "language_info": {
   "codemirror_mode": {
    "name": "ipython",
    "version": 2
   },
   "file_extension": ".py",
   "mimetype": "text/x-python",
   "name": "python",
   "nbconvert_exporter": "python",
   "pygments_lexer": "ipython2",
   "version": "2.7.10"
  }
 },
 "nbformat": 4,
 "nbformat_minor": 0
}
